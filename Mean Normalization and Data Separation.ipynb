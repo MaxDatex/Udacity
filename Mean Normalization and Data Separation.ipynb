{
 "cells": [
  {
   "cell_type": "markdown",
   "metadata": {},
   "source": [
    "# Mean Normalization\n",
    "\n",
    "In machine learning we use large amounts of data to train our models. Some machine learning algorithms may require that the data is *normalized* in order to work correctly. The idea of normalization, also known as *feature scaling*, is to ensure that all the data is on a similar scale, *i.e.* that all the data takes on a similar range of values. For example, we might have a dataset that has values between 0 and 5,000. By normalizing the data we can make the range of values be between 0 and 1.\n",
    "\n",
    "In this lab, you will be performing a different kind of feature scaling known as *mean normalization*. Mean normalization will scale the data, but instead of making the values be between 0 and 1, it will distribute the values evenly in some small interval around zero. For example, if we have a dataset that has values between 0 and 5,000, after mean normalization the range of values will be distributed in some small range around 0, for example between -3 to 3. Because the range of values are distributed evenly around zero, this guarantees that the average (mean) of all elements will be zero. Therefore, when you perform *mean normalization* your data will not only be scaled but it will also have an average of zero. \n",
    "\n",
    "# To Do:\n",
    "\n",
    "You will start by importing NumPy and creating a rank 2 ndarray of random integers between 0 and 5,000 (inclusive) with 1000 rows and 20 columns. This array will simulate a dataset with a wide range of values. Fill in the code below"
   ]
  },
  {
   "cell_type": "code",
   "execution_count": 4,
   "metadata": {},
   "outputs": [
    {
     "data": {
      "text/plain": [
       "(1000, 20)"
      ]
     },
     "execution_count": 4,
     "metadata": {},
     "output_type": "execute_result"
    }
   ],
   "source": [
    "# import NumPy into Python\n",
    "import numpy as np\n",
    "\n",
    "# Create a 1000 x 20 ndarray with random integers in the half-open interval [0, 5001).\n",
    "X = np.random.randint(5001, size=(1000,20))\n",
    "\n",
    "# print the shape of X\n",
    "X.shape"
   ]
  },
  {
   "cell_type": "markdown",
   "metadata": {},
   "source": [
    "Now that you created the array we will mean normalize it. We will perform mean normalization using the following equation:\n",
    "\n",
    "$\\mbox{Norm_Col}_i = \\frac{\\mbox{Col}_i - \\mu_i}{\\sigma_i}$\n",
    "\n",
    "where $\\mbox{Col}_i$ is the $i$th column of $X$, $\\mu_i$ is average of the values in the $i$th column of $X$, and $\\sigma_i$ is the standard deviation of the values in the $i$th column of $X$. In other words, mean normalization is performed by subtracting from each column of $X$ the average of its values, and then by dividing by the standard deviation of its values. In the space below, you will first calculate the average and standard deviation of each column of $X$. "
   ]
  },
  {
   "cell_type": "code",
   "execution_count": 9,
   "metadata": {},
   "outputs": [],
   "source": [
    "# Average of the values in each column of X\n",
    "ave_cols = X.mean(axis=0)\n",
    "\n",
    "# Standard Deviation of the values in each column of X\n",
    "std_cols =X.std(axis=0)"
   ]
  },
  {
   "cell_type": "markdown",
   "metadata": {},
   "source": [
    "If you have done the above calculations correctly, then `ave_cols` and `std_cols`, should both be vectors with shape `(20,)` since $X$ has 20 columns. You can verify this by filling the code below:"
   ]
  },
  {
   "cell_type": "code",
   "execution_count": 10,
   "metadata": {},
   "outputs": [
    {
     "name": "stdout",
     "output_type": "stream",
     "text": [
      "(20,)\n",
      "(20,)\n"
     ]
    }
   ],
   "source": [
    "# Print the shape of ave_cols\n",
    "print(ave_cols.shape)\n",
    "\n",
    "# Print the shape of std_cols\n",
    "print(std_cols.shape)"
   ]
  },
  {
   "cell_type": "markdown",
   "metadata": {},
   "source": [
    "You can now take advantage of Broadcasting to calculate the mean normalized version of $X$ in just one line of code using the equation above. Fill in the code below"
   ]
  },
  {
   "cell_type": "code",
   "execution_count": 11,
   "metadata": {},
   "outputs": [],
   "source": [
    "# Mean normalize X\n",
    "X_norm = (X - ave_cols) / std_cols"
   ]
  },
  {
   "cell_type": "markdown",
   "metadata": {},
   "source": [
    "If you have performed the mean normalization correctly, then the average of all the elements in $X_{\\tiny{\\mbox{norm}}}$ should be close to zero, and they should be evenly distributed in some small interval around zero. You can verify this by filing the code below:"
   ]
  },
  {
   "cell_type": "code",
   "execution_count": 12,
   "metadata": {},
   "outputs": [
    {
     "name": "stdout",
     "output_type": "stream",
     "text": [
      "-1.4388490399142028e-17\n",
      "-1.7734869833880167\n",
      "1.7996038340094358\n"
     ]
    }
   ],
   "source": [
    "# Print the average of all the values of X_norm\n",
    "print(X_norm.mean())\n",
    "\n",
    "# Print the average of the minimum value in each column of X_norm\n",
    "print(X_norm.min())\n",
    "\n",
    "# Print the average of the maximum value in each column of X_norm\n",
    "print(X_norm.max())"
   ]
  },
  {
   "cell_type": "markdown",
   "metadata": {},
   "source": [
    "You should note that since $X$ was created using random integers, the above values will vary. \n",
    "\n",
    "# Data Separation\n",
    "\n",
    "After the data has been mean normalized, it is customary in machine learnig to split our dataset into three sets:\n",
    "\n",
    "1. A Training Set\n",
    "2. A Cross Validation Set\n",
    "3. A Test Set\n",
    "\n",
    "The dataset is usually divided such that the Training Set contains 60% of the data, the Cross Validation Set contains 20% of the data, and the Test Set contains 20% of the data. \n",
    "\n",
    "In this part of the lab you will separate `X_norm` into a Training Set, Cross Validation Set, and a Test Set. Each data set will contain rows of `X_norm` chosen at random, making sure that we don't pick the same row twice. This will guarantee that all the rows of `X_norm` are chosen and randomly distributed among the three new sets.\n",
    "\n",
    "You will start by creating a rank 1 ndarray that contains a random permutation of the row indices of `X_norm`. You can do this by using the `np.random.permutation()` function. The `np.random.permutation(N)` function creates a random permutation of integers from 0 to `N - 1`. Let's see an example:"
   ]
  },
  {
   "cell_type": "code",
   "execution_count": 13,
   "metadata": {},
   "outputs": [
    {
     "data": {
      "text/plain": [
       "array([1, 3, 0, 2, 4])"
      ]
     },
     "execution_count": 13,
     "metadata": {},
     "output_type": "execute_result"
    }
   ],
   "source": [
    "# We create a random permutation of integers 0 to 4\n",
    "np.random.permutation(5)"
   ]
  },
  {
   "cell_type": "markdown",
   "metadata": {},
   "source": [
    "# To Do\n",
    "\n",
    "In the space below create a rank 1 ndarray that contains a random permutation of the row indices of `X_norm`. You can do this in one line of code by extracting the number of rows of `X_norm` using the `shape` attribute and then passing it to the  `np.random.permutation()` function. Remember the `shape` attribute returns a tuple with two numbers in the form `(rows,columns)`."
   ]
  },
  {
   "cell_type": "code",
   "execution_count": 17,
   "metadata": {},
   "outputs": [],
   "source": [
    "# Create a rank 1 ndarray that contains a random permutation of the row indices of `X_norm`\n",
    "row_indices = np.random.permutation(X_norm.shape[0])"
   ]
  },
  {
   "cell_type": "code",
   "execution_count": 18,
   "metadata": {},
   "outputs": [
    {
     "data": {
      "text/plain": [
       "array([109, 555,  50, 459, 504, 452, 153, 513, 547, 785, 626, 394,  38,\n",
       "       237, 227, 316, 699, 228, 251, 130, 376, 328,  20, 819, 590, 202,\n",
       "       898, 112, 983, 144, 135, 727, 570,  31,  21, 938, 957, 136,  15,\n",
       "        89, 151, 355, 198, 526, 347, 840, 426,  42, 731, 581, 790, 918,\n",
       "       568,  23, 308, 834, 562, 356, 388, 947, 387, 252, 704, 847, 762,\n",
       "       652, 910, 413, 612, 610, 162, 963,  78, 147, 392, 859, 431, 248,\n",
       "        93,  16, 322, 659, 673, 511, 875, 657, 634, 835, 839, 439, 709,\n",
       "       928, 880, 623, 469, 887, 181, 820, 698, 968, 857, 736, 955, 574,\n",
       "       982, 648, 954, 373, 552, 122, 149,  77, 896, 334, 318, 240, 224,\n",
       "       701, 193, 556, 182, 850, 567, 509, 184,  43, 987, 678, 257, 676,\n",
       "       336,  73, 269, 201, 991, 583, 655, 103, 621, 985, 920, 853, 390,\n",
       "       499, 640, 110,  26, 489, 958, 882, 855, 760,  17, 168, 966, 929,\n",
       "       948, 280,  44, 189, 979, 524,  55, 629, 792, 386, 484, 492, 106,\n",
       "       515, 119, 631, 668, 660, 209, 288, 586, 115, 520, 956, 300, 830,\n",
       "       462, 266, 666, 833, 829, 752, 285, 771,  66, 633, 561, 420, 450,\n",
       "       535, 912, 169, 215, 814, 643, 312, 715, 273, 592, 128, 625, 171,\n",
       "       615, 891, 537, 911, 742,  85, 960, 851, 283, 530, 449, 671, 889,\n",
       "       753, 549, 281, 518, 359, 472, 786, 622, 558, 264, 776, 343, 249,\n",
       "       761,  83, 448, 331, 528, 933, 823, 407,  22, 375, 686, 868, 222,\n",
       "       964, 735,   5, 844,  79, 194,   4, 332, 988, 225, 425, 801, 104,\n",
       "       234, 943, 550, 432, 480, 710, 726, 320, 357, 272, 695, 867, 874,\n",
       "       384, 393,   3, 192, 995, 271, 617, 945, 361, 578, 838, 114, 703,\n",
       "       474, 433, 378,  70,  95, 646, 674,  65, 527,  58, 286, 747, 270,\n",
       "       723, 447, 803, 158, 371, 391, 572, 243, 226, 603, 230,  32, 849,\n",
       "       681, 508, 250, 837,  69, 559, 588, 800, 460, 745, 796,  35,   6,\n",
       "       716, 662,  87, 996, 370, 624, 869, 763, 696, 306, 510, 845, 150,\n",
       "       772, 734, 190, 730, 594, 563, 246,  86, 374, 124, 389, 419, 414,\n",
       "       997, 531, 468, 591, 645, 123, 656, 229, 942, 639, 922, 770, 261,\n",
       "        68,   2, 494, 239, 372, 137, 440,  64, 604, 303, 816, 936, 533,\n",
       "       133, 360, 862, 750, 380, 173, 971, 366,  67, 553, 142, 416, 711,\n",
       "       131, 470, 970, 866, 397,  36, 424, 757, 728, 210, 973, 174, 665,\n",
       "       466, 807, 263, 708, 338, 290, 516, 571, 653, 627,  59, 620, 798,\n",
       "       344, 876, 718, 616, 212, 706, 116,  80, 219, 274, 551, 498, 856,\n",
       "       295, 475, 905, 165, 538, 319, 345, 456, 781, 349, 788, 401, 501,\n",
       "       211, 159,  51, 403, 976, 832, 451, 664, 751, 379, 758, 756, 296,\n",
       "       502, 690, 138, 713, 894, 325, 672, 580, 532, 493, 999,  47, 120,\n",
       "       740,   8, 661, 951, 863, 825, 886,  24, 500, 232,  90, 908, 577,\n",
       "       121, 831,  97, 916, 125, 836, 605,  33, 702, 220, 534, 818,  10,\n",
       "       434, 972, 221, 415, 693, 687, 108, 203, 989, 206, 802, 719, 161,\n",
       "       927, 473, 129, 314, 348, 984, 453, 548, 613, 186, 899, 569,  12,\n",
       "       651, 601, 975, 505, 236, 974, 821, 154, 465, 921, 132, 143, 543,\n",
       "       934,  14, 878, 683, 195, 930, 611, 289, 682, 872, 587,  45, 741,\n",
       "       335, 944, 100, 560,  25,  18, 998, 773, 481, 417, 307, 794, 245,\n",
       "       722, 258, 890, 244, 427, 185,  71, 842, 746, 491, 127,  96, 797,\n",
       "       368, 438,  72, 808, 965, 799, 476, 967, 454, 321, 346, 993, 777,\n",
       "       262, 595, 732, 793, 733, 455, 959, 216, 483, 554, 791, 961, 909,\n",
       "       805, 477, 584, 685,  57, 598, 691, 596,  92, 155, 107, 860, 980,\n",
       "       315, 396, 865, 487,  41, 783, 277, 140, 900, 540, 764, 404, 778,\n",
       "       341, 630, 247, 410, 276, 873, 739, 946, 593, 861, 231,  27, 437,\n",
       "       969, 337, 329, 482, 294, 841, 743,  39, 544,   1, 806, 141, 253,\n",
       "       795, 826, 199, 217, 166, 111,  75,  56, 233, 893, 457, 351, 978,\n",
       "       949, 582, 925, 242, 981, 575, 784, 126, 293, 767, 423, 647, 134,\n",
       "        61, 523,  99, 327, 904, 632, 637, 812, 208, 529, 539,  62, 877,\n",
       "       870, 765, 429, 565, 885, 435, 284, 180, 924, 299, 292, 405, 311,\n",
       "       503, 412, 156, 496, 599, 717, 774, 139, 313, 879, 506, 881, 994,\n",
       "       737, 255, 436, 725, 467, 815, 278, 204, 619, 458, 810, 381, 848,\n",
       "        48, 342, 430, 636, 941, 488, 385, 254,  11, 843, 541,  30, 915,\n",
       "       402, 323, 490, 749, 822, 688, 330, 362, 317, 213, 697, 160, 926,\n",
       "       235, 663, 340, 118, 809, 914, 901,  28, 461, 522, 667, 871, 977,\n",
       "       811, 399, 167, 768, 917,  60, 775, 291, 566, 694, 514, 305, 406,\n",
       "       607, 148, 883, 105, 164,  81, 852, 479,  52, 352, 369, 858, 365,\n",
       "        34, 990, 486, 309, 446, 542, 145, 787, 952, 536, 744, 679, 557,\n",
       "       196, 172, 932, 884, 576, 398, 675, 421, 350, 748, 602, 441,  37,\n",
       "       738, 183, 714, 606, 600, 113, 654, 214, 689, 642, 267, 897, 827,\n",
       "       428, 163,  46, 265, 256, 207, 471, 354, 919, 339, 178, 443, 377,\n",
       "       497, 411, 789, 585, 950,  88,  91,  82,  53, 913, 608, 939, 729,\n",
       "        29, 512, 684, 650, 117, 720, 367, 297,  76, 218, 700, 187, 383,\n",
       "       759, 400, 422,   9, 953, 519, 478, 677, 903,  54,  19, 755, 712,\n",
       "       442, 464, 495, 444, 102, 638, 287,  74, 618, 146,  63, 907, 176,\n",
       "       644, 191, 445,  40, 692, 279, 935,  94, 864, 782, 754, 177, 179,\n",
       "       241, 846, 197, 680, 395, 895, 301, 364, 353, 409, 260, 282, 888,\n",
       "       358, 962, 573, 175, 854, 769, 579, 545, 363, 669, 766, 223, 813,\n",
       "        84,   7, 892, 564, 614, 525, 310, 780, 157, 275, 817, 635, 333,\n",
       "       992, 200,  98, 721,   0, 609, 804, 628, 418, 940, 828, 902, 521,\n",
       "       326, 824, 507,  49, 670, 382, 906, 238, 259, 931, 546, 937, 707,\n",
       "       589, 649,  13, 986, 170, 779, 298, 188, 101, 658, 485, 641, 408,\n",
       "       152, 597, 517, 923, 304, 324, 205, 724, 463, 705, 302, 268])"
      ]
     },
     "execution_count": 18,
     "metadata": {},
     "output_type": "execute_result"
    }
   ],
   "source": [
    "row_indices"
   ]
  },
  {
   "cell_type": "markdown",
   "metadata": {},
   "source": [
    "Now you can create the three datasets using the `row_indices` ndarray to select the rows that will go into each dataset. Rememeber that the Training Set contains 60% of the data, the Cross Validation Set contains 20% of the data, and the Test Set contains 20% of the data. Each set requires just one line of code to create. Fill in the code below"
   ]
  },
  {
   "cell_type": "code",
   "execution_count": 20,
   "metadata": {},
   "outputs": [],
   "source": [
    "# Make any necessary calculations.\n",
    "# You can save your calculations into variables to use later.\n",
    "prc_60 = int(len(X_norm) * 0.6)\n",
    "prc_80 = int(len(X_norm) * 0.8)\n",
    "# Create a Training Set\n",
    "X_train = X_norm[row_indices[:prc_60],:]\n",
    "\n",
    "# Create a Cross Validation Set\n",
    "X_crossVal = X_norm[row_indices[prc_60:prc_80],:]\n",
    "\n",
    "# Create a Test Set\n",
    "X_test = X_norm[row_indices[prc_80:],:]"
   ]
  },
  {
   "cell_type": "markdown",
   "metadata": {},
   "source": [
    "If you performed the above calculations correctly, then `X_tain` should have 600 rows and 20 columns, `X_crossVal` should have 200 rows and 20 columns, and `X_test` should have 200 rows and 20 columns. You can verify this by filling the code below:"
   ]
  },
  {
   "cell_type": "code",
   "execution_count": 21,
   "metadata": {},
   "outputs": [
    {
     "name": "stdout",
     "output_type": "stream",
     "text": [
      "(600, 20)\n",
      "(200, 20)\n",
      "(200, 20)\n"
     ]
    }
   ],
   "source": [
    "# Print the shape of X_train\n",
    "print(X_train.shape)\n",
    "\n",
    "# Print the shape of X_crossVal\n",
    "print(X_crossVal.shape)\n",
    "\n",
    "# Print the shape of X_test\n",
    "print(X_test.shape)"
   ]
  },
  {
   "cell_type": "code",
   "execution_count": null,
   "metadata": {},
   "outputs": [],
   "source": []
  }
 ],
 "metadata": {
  "kernelspec": {
   "display_name": "Python 3 (ipykernel)",
   "language": "python",
   "name": "python3"
  },
  "language_info": {
   "codemirror_mode": {
    "name": "ipython",
    "version": 3
   },
   "file_extension": ".py",
   "mimetype": "text/x-python",
   "name": "python",
   "nbconvert_exporter": "python",
   "pygments_lexer": "ipython3",
   "version": "3.11.5"
  }
 },
 "nbformat": 4,
 "nbformat_minor": 2
}
